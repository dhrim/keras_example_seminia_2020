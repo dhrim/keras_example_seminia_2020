{
  "nbformat": 4,
  "nbformat_minor": 0,
  "metadata": {
    "colab": {
      "name": "knowledge_distillation",
      "provenance": [],
      "collapsed_sections": []
    },
    "kernelspec": {
      "display_name": "Python 3",
      "language": "python",
      "name": "python3"
    },
    "language_info": {
      "codemirror_mode": {
        "name": "ipython",
        "version": 3
      },
      "file_extension": ".py",
      "mimetype": "text/x-python",
      "name": "python",
      "nbconvert_exporter": "python",
      "pygments_lexer": "ipython3",
      "version": "3.7.0"
    },
    "accelerator": "GPU"
  },
  "cells": [
    {
      "cell_type": "markdown",
      "metadata": {
        "id": "-soe2vRHAqzW"
      },
      "source": [
        "![임도형 커멘트](https://github.com/dhrim/keras_example_seminia_2020/raw/master/comment.png)\n",
        "\n",
        "# 개요\n",
        "\n",
        "- 원 본 : https://keras.io/examples/vision/knowledge_distillation/\n",
        "- 작업 : 영상 분류\n",
        "- 데이터 : MNIST\n",
        "- 적용 모델 : CNN\n",
        "\n",
        "\n",
        "<br>\n",
        "\n",
        "\n",
        "# 지식 전수, Knowledge Distillation\n",
        "\n",
        "학습한 선생님 모델이 학생 모델에게 지식을 전수하는 것.\n",
        "\n",
        "보통 학생 모델은 그 크기가 작다. 모델 압축이기도 하다.\n",
        "\n",
        "<br>\n",
        "\n",
        "참고 문서 : https://light-tree.tistory.com/196\n",
        "\n",
        "\n",
        "<br>\n",
        "\n",
        "\n",
        "# 핵심 사항\n",
        "\n",
        "학습에 사용되는 label(0, 1, 0)에 곧이 곧대로 맞출 것이 아니라.\n",
        "\n",
        "이미 학습한 teacher의 softmax 출력(0.1, 0.7, 0.2) 데로 맞추면 될 것이다.\n",
        "\n",
        "미리 학습하여 결과를 보이는 teacher의 출력을 낸다면 문제 없지 않을까.\n",
        "\n",
        "```\n",
        "loss =   0.1 * loss(label, studnet_output) + 0.9 * loss(softmax(teacher_prediction), softmax(student_prediction))\n",
        "```\n",
        "\n",
        "```\n",
        "label = ( 0, 1, 0 )\n",
        "student_prediction = ( 0.1, 0.7, 0.2 )\n",
        "teacher_prediction = ( 0.1, 0.7, 0.2 )\n",
        "```\n",
        "\n",
        "\n",
        "```\n",
        "\n",
        "\n"
      ]
    },
    {
      "cell_type": "markdown",
      "metadata": {
        "id": "X2TKUTa2GQ-W"
      },
      "source": [
        "# 태그\n",
        "```\n",
        "#knowledge_distillation\n",
        "#model_compression\n",
        "```"
      ]
    },
    {
      "cell_type": "markdown",
      "metadata": {
        "id": "Vza3nKMM-5hR"
      },
      "source": [
        "# Knowledge Distillation\n",
        "\n",
        "**Author:** [Kenneth Borup](https://twitter.com/Kennethborup)<br>\n",
        "**Date created:** 2020/09/01<br>\n",
        "**Last modified:** 2020/09/01<br>\n",
        "**Description:** Implementation of classical Knowledge Distillation."
      ]
    },
    {
      "cell_type": "markdown",
      "metadata": {
        "id": "ldl5NX6u-5hS"
      },
      "source": [
        "## Introduction to Knowledge Distillation\n",
        "\n",
        "Knowledge Distillation is a procedure for model\n",
        "compression, in which a small (student) model is trained to match a large pre-trained\n",
        "(teacher) model. Knowledge is transferred from the teacher model to the student\n",
        "by minimizing a loss function, aimed at matching softened teacher logits as well as\n",
        "ground-truth labels.\n",
        "\n",
        "The logits are softened by applying a \"temperature\" scaling function in the softmax,\n",
        "effectively smoothing out the probability distribution and revealing\n",
        "inter-class relationships learned by the teacher.\n",
        "\n",
        "**Reference:**\n",
        "\n",
        "- [Hinton et al. (2015)](https://arxiv.org/abs/1503.02531)"
      ]
    },
    {
      "cell_type": "markdown",
      "metadata": {
        "id": "OFusUOfv-5hT"
      },
      "source": [
        "## Setup"
      ]
    },
    {
      "cell_type": "code",
      "metadata": {
        "id": "vcBnMZmq-5hT"
      },
      "source": [
        "import tensorflow as tf\n",
        "from tensorflow import keras\n",
        "from tensorflow.keras import layers\n",
        "import numpy as np\n"
      ],
      "execution_count": null,
      "outputs": []
    },
    {
      "cell_type": "markdown",
      "metadata": {
        "id": "lmu7eJDq-5hX"
      },
      "source": [
        "## Construct `Distiller()` class\n",
        "\n",
        "The custom `Distiller()` class, overrides the `Model` methods `train_step`, `test_step`,\n",
        "and `compile()`. In order to use the distiller, we need:\n",
        "\n",
        "- A trained teacher model\n",
        "- A student model to train\n",
        "- A student loss function on the difference between student predictions and ground-truth\n",
        "- A distillation loss function, along with a `temperature`, on the difference between the\n",
        "soft student predictions and the soft teacher labels\n",
        "- An `alpha` factor to weight the student and distillation loss\n",
        "- An optimizer for the student and (optional) metrics to evaluate performance\n",
        "\n",
        "In the `train_step` method, we perform a forward pass of both the teacher and student,\n",
        "calculate the loss with weighting of the `student_loss` and `distillation_loss` by `alpha` and\n",
        "`1 - alpha`, respectively, and perform the backward pass. Note: only the student weights are updated,\n",
        "and therefore we only calculate the gradients for the student weights.\n",
        "\n",
        "In the `test_step` method, we evaluate the student model on the provided dataset."
      ]
    },
    {
      "cell_type": "code",
      "metadata": {
        "id": "N1_k-N5P-5hY"
      },
      "source": [
        "\n",
        "class Distiller(keras.Model):\n",
        "    def __init__(self, student, teacher):\n",
        "        super(Distiller, self).__init__()\n",
        "        self.teacher = student\n",
        "        self.student = teacher\n",
        "\n",
        "    def compile(\n",
        "        self,\n",
        "        optimizer,\n",
        "        metrics,\n",
        "        student_loss_fn,\n",
        "        distillation_loss_fn,\n",
        "        alpha=0.1,\n",
        "        temperature=3,\n",
        "    ):\n",
        "        \"\"\" Configure the distiller.\n",
        "\n",
        "        Args:\n",
        "            optimizer: Keras optimizer for the student weights\n",
        "            metrics: Keras metrics for evaluation\n",
        "            student_loss_fn: Loss function of difference between student\n",
        "                predictions and ground-truth\n",
        "            distillation_loss_fn: Loss function of difference between soft\n",
        "                student predictions and soft teacher predictions\n",
        "            alpha: weight to student_loss_fn and 1-alpha to distillation_loss_fn\n",
        "            temperature: Temperature for softening probability distributions.\n",
        "                Larger temperature gives softer distributions.\n",
        "        \"\"\"\n",
        "        super(Distiller, self).compile(optimizer=optimizer, metrics=metrics)\n",
        "        self.student_loss_fn = student_loss_fn\n",
        "        self.distillation_loss_fn = distillation_loss_fn\n",
        "        self.alpha = alpha\n",
        "        self.temperature = temperature\n",
        "\n",
        "    def train_step(self, data):\n",
        "        # Unpack data\n",
        "        x, y = data\n",
        "\n",
        "        # Forward pass of teacher\n",
        "        teacher_predictions = self.teacher(x, training=False)\n",
        "\n",
        "        with tf.GradientTape() as tape:\n",
        "            # Forward pass of student\n",
        "            student_predictions = self.student(x, training=True)\n",
        "\n",
        "\n",
        "            # Compute losses\n",
        "            student_loss = self.student_loss_fn(y, student_predictions)\n",
        "            distillation_loss = self.distillation_loss_fn(\n",
        "                tf.nn.softmax(teacher_predictions / self.temperature, axis=1),\n",
        "                tf.nn.softmax(student_predictions / self.temperature, axis=1),\n",
        "            )\n",
        "            loss = self.alpha * student_loss + (1 - self.alpha) * distillation_loss\n",
        "\n",
        "        # Compute gradients\n",
        "        trainable_vars = self.student.trainable_variables\n",
        "        gradients = tape.gradient(loss, trainable_vars)\n",
        "\n",
        "        # Update weights\n",
        "        self.optimizer.apply_gradients(zip(gradients, trainable_vars))\n",
        "\n",
        "        # Update the metrics configured in `compile()`.\n",
        "        self.compiled_metrics.update_state(y, student_predictions)\n",
        "\n",
        "        # Return a dict of performance\n",
        "        results = {m.name: m.result() for m in self.metrics}\n",
        "        results.update(\n",
        "            {\"student_loss\": student_loss, \"distillation_loss\": distillation_loss}\n",
        "        )\n",
        "        return results\n",
        "\n",
        "    def test_step(self, data):\n",
        "        # Unpack the data\n",
        "        x, y = data\n",
        "\n",
        "        # Compute predictions\n",
        "        y_prediction = self.student(x, training=False)\n",
        "\n",
        "        # Calculate the loss\n",
        "        student_loss = self.student_loss_fn(y, y_prediction)\n",
        "\n",
        "        # Update the metrics.\n",
        "        self.compiled_metrics.update_state(y, y_prediction)\n",
        "\n",
        "        # Return a dict of performance\n",
        "        results = {m.name: m.result() for m in self.metrics}\n",
        "        results.update({\"student_loss\": student_loss})\n",
        "        return results\n"
      ],
      "execution_count": null,
      "outputs": []
    },
    {
      "cell_type": "markdown",
      "metadata": {
        "id": "XGVKRDMu-5hb"
      },
      "source": [
        "## Create student and teacher models\n",
        "\n",
        "Initialy, we create a teacher model and a smaller student model. Both models are\n",
        "convolutional neural networks and created using `Sequential()`,\n",
        "but could be any Keras model."
      ]
    },
    {
      "cell_type": "code",
      "metadata": {
        "id": "sNmwP4Fs-5hb"
      },
      "source": [
        "# Create the teacher\n",
        "teacher = keras.Sequential(\n",
        "    [\n",
        "        keras.Input(shape=(28, 28, 1)),\n",
        "        layers.Conv2D(256, (3, 3), strides=(2, 2), padding=\"same\"),\n",
        "        layers.LeakyReLU(alpha=0.2),\n",
        "        layers.MaxPooling2D(pool_size=(2, 2), strides=(1, 1), padding=\"same\"),\n",
        "        layers.Conv2D(512, (3, 3), strides=(2, 2), padding=\"same\"),\n",
        "        layers.Flatten(),\n",
        "        layers.Dense(10),\n",
        "    ],\n",
        "    name=\"teacher\",\n",
        ")\n",
        "\n",
        "# Create the student\n",
        "student = keras.Sequential(\n",
        "    [\n",
        "        keras.Input(shape=(28, 28, 1)),\n",
        "        layers.Conv2D(16, (3, 3), strides=(2, 2), padding=\"same\"),\n",
        "        layers.LeakyReLU(alpha=0.2),\n",
        "        layers.MaxPooling2D(pool_size=(2, 2), strides=(1, 1), padding=\"same\"),\n",
        "        layers.Conv2D(32, (3, 3), strides=(2, 2), padding=\"same\"),\n",
        "        layers.Flatten(),\n",
        "        layers.Dense(10),\n",
        "    ],\n",
        "    name=\"student\",\n",
        ")\n",
        "\n",
        "# Clone student for later comparison\n",
        "student_scratch = keras.models.clone_model(student)"
      ],
      "execution_count": null,
      "outputs": []
    },
    {
      "cell_type": "markdown",
      "metadata": {
        "id": "F8ummE-rEXuJ"
      },
      "source": [
        "![임도형 커멘트](https://github.com/dhrim/keras_example_seminia_2020/raw/master/comment.png)\n",
        "\n",
        "\n",
        "student 모델은 teacher 모델에 비해 70배 작다."
      ]
    },
    {
      "cell_type": "code",
      "metadata": {
        "id": "9trOFrq-CKWp",
        "colab": {
          "base_uri": "https://localhost:8080/",
          "height": 745
        },
        "outputId": "37ee83ba-fd60-449c-d611-b103dddf28f7"
      },
      "source": [
        "teacher.summary()\n",
        "student.summary()"
      ],
      "execution_count": null,
      "outputs": [
        {
          "output_type": "stream",
          "text": [
            "Model: \"teacher\"\n",
            "_________________________________________________________________\n",
            "Layer (type)                 Output Shape              Param #   \n",
            "=================================================================\n",
            "conv2d (Conv2D)              (None, 14, 14, 256)       2560      \n",
            "_________________________________________________________________\n",
            "leaky_re_lu (LeakyReLU)      (None, 14, 14, 256)       0         \n",
            "_________________________________________________________________\n",
            "max_pooling2d (MaxPooling2D) (None, 14, 14, 256)       0         \n",
            "_________________________________________________________________\n",
            "conv2d_1 (Conv2D)            (None, 7, 7, 512)         1180160   \n",
            "_________________________________________________________________\n",
            "flatten (Flatten)            (None, 25088)             0         \n",
            "_________________________________________________________________\n",
            "dense (Dense)                (None, 10)                250890    \n",
            "=================================================================\n",
            "Total params: 1,433,610\n",
            "Trainable params: 1,433,610\n",
            "Non-trainable params: 0\n",
            "_________________________________________________________________\n",
            "Model: \"student\"\n",
            "_________________________________________________________________\n",
            "Layer (type)                 Output Shape              Param #   \n",
            "=================================================================\n",
            "conv2d_2 (Conv2D)            (None, 14, 14, 16)        160       \n",
            "_________________________________________________________________\n",
            "leaky_re_lu_1 (LeakyReLU)    (None, 14, 14, 16)        0         \n",
            "_________________________________________________________________\n",
            "max_pooling2d_1 (MaxPooling2 (None, 14, 14, 16)        0         \n",
            "_________________________________________________________________\n",
            "conv2d_3 (Conv2D)            (None, 7, 7, 32)          4640      \n",
            "_________________________________________________________________\n",
            "flatten_1 (Flatten)          (None, 1568)              0         \n",
            "_________________________________________________________________\n",
            "dense_1 (Dense)              (None, 10)                15690     \n",
            "=================================================================\n",
            "Total params: 20,490\n",
            "Trainable params: 20,490\n",
            "Non-trainable params: 0\n",
            "_________________________________________________________________\n"
          ],
          "name": "stdout"
        }
      ]
    },
    {
      "cell_type": "markdown",
      "metadata": {
        "id": "QnqE47g1-5he"
      },
      "source": [
        "## Prepare the dataset\n",
        "\n",
        "The dataset used for training the teacher and distilling the teacher is\n",
        "[MNIST](https://keras.io/api/datasets/mnist/), and the procedure would be equivalent for any other\n",
        "dataset, e.g. [CIFAR-10](https://keras.io/api/datasets/cifar10/), with a suitable choice\n",
        "of models. Both the student and teacher are trained on the training set and evaluated on\n",
        "the test set."
      ]
    },
    {
      "cell_type": "code",
      "metadata": {
        "id": "A4Iqvqgb-5he",
        "colab": {
          "base_uri": "https://localhost:8080/",
          "height": 54
        },
        "outputId": "f002d811-c7f3-4c6b-c27d-e672d2727d68"
      },
      "source": [
        "# Prepare the train and test dataset.\n",
        "batch_size = 64\n",
        "(x_train, y_train), (x_test, y_test) = keras.datasets.mnist.load_data()\n",
        "\n",
        "# Normalize data\n",
        "x_train = x_train.astype(\"float32\") / 255.0\n",
        "x_train = np.reshape(x_train, (-1, 28, 28, 1))\n",
        "\n",
        "x_test = x_test.astype(\"float32\") / 255.0\n",
        "x_test = np.reshape(x_test, (-1, 28, 28, 1))\n"
      ],
      "execution_count": null,
      "outputs": [
        {
          "output_type": "stream",
          "text": [
            "Downloading data from https://storage.googleapis.com/tensorflow/tf-keras-datasets/mnist.npz\n",
            "11493376/11490434 [==============================] - 0s 0us/step\n"
          ],
          "name": "stdout"
        }
      ]
    },
    {
      "cell_type": "markdown",
      "metadata": {
        "id": "U9B9yYOp-5hh"
      },
      "source": [
        "## Train the teacher\n",
        "\n",
        "In knowledge distillation we assume that the teacher is trained and fixed. Thus, we start\n",
        "by training the teacher model on the training set in the usual way."
      ]
    },
    {
      "cell_type": "code",
      "metadata": {
        "id": "fNOfx6DP-5hi",
        "colab": {
          "base_uri": "https://localhost:8080/",
          "height": 255
        },
        "outputId": "f568e2be-6cb7-4345-f3ab-cb7e09b292c7"
      },
      "source": [
        "# Train teacher as usual\n",
        "teacher.compile(\n",
        "    optimizer=keras.optimizers.Adam(),\n",
        "    loss=keras.losses.SparseCategoricalCrossentropy(from_logits=True),\n",
        "    metrics=[keras.metrics.SparseCategoricalAccuracy()],\n",
        ")\n",
        "\n",
        "# Train and evaluate teacher on data.\n",
        "teacher.fit(x_train, y_train, epochs=5)\n",
        "teacher.evaluate(x_test, y_test)"
      ],
      "execution_count": null,
      "outputs": [
        {
          "output_type": "stream",
          "text": [
            "Epoch 1/5\n",
            "1875/1875 [==============================] - 17s 9ms/step - loss: 0.1430 - sparse_categorical_accuracy: 0.9565\n",
            "Epoch 2/5\n",
            "1875/1875 [==============================] - 17s 9ms/step - loss: 0.0935 - sparse_categorical_accuracy: 0.9730\n",
            "Epoch 3/5\n",
            "1875/1875 [==============================] - 17s 9ms/step - loss: 0.0819 - sparse_categorical_accuracy: 0.9763\n",
            "Epoch 4/5\n",
            "1875/1875 [==============================] - 17s 9ms/step - loss: 0.0755 - sparse_categorical_accuracy: 0.9787\n",
            "Epoch 5/5\n",
            "1875/1875 [==============================] - 17s 9ms/step - loss: 0.0664 - sparse_categorical_accuracy: 0.9811\n",
            "313/313 [==============================] - 1s 4ms/step - loss: 0.1361 - sparse_categorical_accuracy: 0.9677\n"
          ],
          "name": "stdout"
        },
        {
          "output_type": "execute_result",
          "data": {
            "text/plain": [
              "[0.13612306118011475, 0.9677000045776367]"
            ]
          },
          "metadata": {
            "tags": []
          },
          "execution_count": 5
        }
      ]
    },
    {
      "cell_type": "markdown",
      "metadata": {
        "id": "x7YHN5AW-5hk"
      },
      "source": [
        "## Distill teacher to student\n",
        "\n",
        "We have already trained the teacher model, and we only need to initialize a\n",
        "`Distiller(student, teacher)` instance, `compile()` it with the desired losses,\n",
        "hyperparameters and optimizer, and distill the teacher to the student."
      ]
    },
    {
      "cell_type": "code",
      "metadata": {
        "id": "NHg0pD6A-5hk",
        "colab": {
          "base_uri": "https://localhost:8080/",
          "height": 183
        },
        "outputId": "fb0de6c9-94a1-462b-93b2-2c567c975d10"
      },
      "source": [
        "# Initialize and compile distiller\n",
        "distiller = Distiller(student=student, teacher=teacher)\n",
        "distiller.compile(\n",
        "    optimizer=keras.optimizers.Adam(),\n",
        "    metrics=[keras.metrics.SparseCategoricalAccuracy()],\n",
        "    student_loss_fn=keras.losses.SparseCategoricalCrossentropy(from_logits=True),\n",
        "    distillation_loss_fn=keras.losses.KLDivergence(),\n",
        "    alpha=0.1,\n",
        "    temperature=10,\n",
        ")\n",
        "\n",
        "# Distill teacher to student\n",
        "distiller.fit(x_train, y_train, epochs=3)\n",
        "\n",
        "# Evaluate student on test dataset\n",
        "distiller.evaluate(x_test, y_test)"
      ],
      "execution_count": null,
      "outputs": [
        {
          "output_type": "stream",
          "text": [
            "Epoch 1/3\n",
            "1875/1875 [==============================] - 18s 10ms/step - sparse_categorical_accuracy: 0.9818 - student_loss: 0.1534 - distillation_loss: 0.0222\n",
            "Epoch 2/3\n",
            "1875/1875 [==============================] - 18s 10ms/step - sparse_categorical_accuracy: 0.9855 - student_loss: 0.1382 - distillation_loss: 0.0184\n",
            "Epoch 3/3\n",
            "1875/1875 [==============================] - 18s 10ms/step - sparse_categorical_accuracy: 0.9865 - student_loss: 0.1334 - distillation_loss: 0.0182\n",
            "313/313 [==============================] - 1s 4ms/step - sparse_categorical_accuracy: 0.9816 - student_loss: 0.1484\n"
          ],
          "name": "stdout"
        },
        {
          "output_type": "execute_result",
          "data": {
            "text/plain": [
              "0.9815999865531921"
            ]
          },
          "metadata": {
            "tags": []
          },
          "execution_count": 6
        }
      ]
    },
    {
      "cell_type": "markdown",
      "metadata": {
        "id": "c85axiaF-5ho"
      },
      "source": [
        "## Train student from scratch for comparison\n",
        "\n",
        "We can also train an equivalent student model from scratch without the teacher, in order\n",
        "to evaluate the performance gain obtained by knowledge distillation."
      ]
    },
    {
      "cell_type": "code",
      "metadata": {
        "id": "1bZWv6D2-5ho",
        "colab": {
          "base_uri": "https://localhost:8080/",
          "height": 183
        },
        "outputId": "e9db5dba-739f-4ad8-c8e1-6aa0d49cf81d"
      },
      "source": [
        "# Train student as doen usually\n",
        "student_scratch.compile(\n",
        "    optimizer=keras.optimizers.Adam(),\n",
        "    loss=keras.losses.SparseCategoricalCrossentropy(from_logits=True),\n",
        "    metrics=[keras.metrics.SparseCategoricalAccuracy()],\n",
        ")\n",
        "\n",
        "# Train and evaluate student trained from scratch.\n",
        "student_scratch.fit(x_train, y_train, epochs=3)\n",
        "student_scratch.evaluate(x_test, y_test)"
      ],
      "execution_count": null,
      "outputs": [
        {
          "output_type": "stream",
          "text": [
            "Epoch 1/3\n",
            "1875/1875 [==============================] - 4s 2ms/step - loss: 0.2313 - sparse_categorical_accuracy: 0.9314\n",
            "Epoch 2/3\n",
            "1875/1875 [==============================] - 5s 2ms/step - loss: 0.0901 - sparse_categorical_accuracy: 0.9721\n",
            "Epoch 3/3\n",
            "1875/1875 [==============================] - 5s 3ms/step - loss: 0.0712 - sparse_categorical_accuracy: 0.9780\n",
            "313/313 [==============================] - 1s 2ms/step - loss: 0.0586 - sparse_categorical_accuracy: 0.9794\n"
          ],
          "name": "stdout"
        },
        {
          "output_type": "execute_result",
          "data": {
            "text/plain": [
              "[0.058573201298713684, 0.9793999791145325]"
            ]
          },
          "metadata": {
            "tags": []
          },
          "execution_count": 7
        }
      ]
    },
    {
      "cell_type": "markdown",
      "metadata": {
        "id": "OevPiuMgCnNH"
      },
      "source": [
        "![임도형 커멘트](https://github.com/dhrim/keras_example_seminia_2020/raw/master/comment.png)\n",
        "\n",
        "- teacher model : 3 epoch loss = 0.97\n",
        "- teacher model : 5 epoch loss = 0.98\n",
        "- student model from scratch : 3 epoch loss = 0.978\n",
        "- student model by distilation : 3 epoch lostt = 0.98"
      ]
    },
    {
      "cell_type": "markdown",
      "metadata": {
        "id": "w4Jb5Rg2-5hq"
      },
      "source": [
        "If the teacher is trained for 5 full epochs and the student is distilled on this teacher\n",
        "for 3 full epochs, you should in this example experience a performance boost compared to\n",
        "training the same student model from scratch, and even compared to the teacher itself.\n",
        "You should expect the teacher to have accuracy around 97.6%, the student trained from\n",
        "scratch should be around 97.6%, and the distilled student should be around 98.1%. Remove\n",
        "or try out different seeds to use different weight initializations."
      ]
    }
  ]
}